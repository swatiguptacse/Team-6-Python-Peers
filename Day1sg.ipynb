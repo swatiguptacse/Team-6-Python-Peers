{
 "cells": [
  {
   "cell_type": "markdown",
   "id": "cfcf2af7",
   "metadata": {},
   "source": [
    "# 41.Find the visit type with maximum 'No Show'"
   ]
  },
  {
   "cell_type": "code",
   "execution_count": null,
   "id": "a3892ae1",
   "metadata": {},
   "outputs": [
    {
     "name": "stdout",
     "output_type": "stream",
     "text": [
      "Requirement already satisfied: panda in ./opt/anaconda3/lib/python3.9/site-packages (0.3.1)\n",
      "Requirement already satisfied: requests in ./opt/anaconda3/lib/python3.9/site-packages (from panda) (2.28.1)\n",
      "Requirement already satisfied: setuptools in ./opt/anaconda3/lib/python3.9/site-packages (from panda) (63.4.1)\n",
      "Requirement already satisfied: charset-normalizer<3,>=2 in ./opt/anaconda3/lib/python3.9/site-packages (from requests->panda) (2.0.4)\n",
      "Requirement already satisfied: idna<4,>=2.5 in ./opt/anaconda3/lib/python3.9/site-packages (from requests->panda) (3.3)\n",
      "Requirement already satisfied: certifi>=2017.4.17 in ./opt/anaconda3/lib/python3.9/site-packages (from requests->panda) (2022.9.24)\n",
      "Requirement already satisfied: urllib3<1.27,>=1.21.1 in ./opt/anaconda3/lib/python3.9/site-packages (from requests->panda) (1.26.11)\n"
     ]
    }
   ],
   "source": [
    "pip install panda"
   ]
  },
  {
   "cell_type": "code",
   "execution_count": 4,
   "id": "b594022c",
   "metadata": {},
   "outputs": [],
   "source": [
    "import numpy as np\n",
    "import pandas as pd\n",
    "import matplotlib.pyplot as plt\n",
    "import seaborn as sns"
   ]
  },
  {
   "cell_type": "code",
   "execution_count": 17,
   "id": "a41311ee",
   "metadata": {},
   "outputs": [],
   "source": [
    "#read Excel file from laptop\n",
    "hospital_data=pd.read_excel('/Users/karthikauthershnagarajan/Desktop/python hackathon/HospitalDatabase.xlsx','AmbulatoryVisits')"
   ]
  },
  {
   "cell_type": "code",
   "execution_count": 4,
   "id": "45b307f6",
   "metadata": {},
   "outputs": [
    {
     "data": {
      "text/html": [
       "<div>\n",
       "<style scoped>\n",
       "    .dataframe tbody tr th:only-of-type {\n",
       "        vertical-align: middle;\n",
       "    }\n",
       "\n",
       "    .dataframe tbody tr th {\n",
       "        vertical-align: top;\n",
       "    }\n",
       "\n",
       "    .dataframe thead th {\n",
       "        text-align: right;\n",
       "    }\n",
       "</style>\n",
       "<table border=\"1\" class=\"dataframe\">\n",
       "  <thead>\n",
       "    <tr style=\"text-align: right;\">\n",
       "      <th></th>\n",
       "      <th>VisitID</th>\n",
       "      <th>VisitType</th>\n",
       "      <th>VisitStatus</th>\n",
       "    </tr>\n",
       "  </thead>\n",
       "  <tbody>\n",
       "    <tr>\n",
       "      <th>0</th>\n",
       "      <td>202</td>\n",
       "      <td>Physical</td>\n",
       "      <td>No Show</td>\n",
       "    </tr>\n",
       "    <tr>\n",
       "      <th>1</th>\n",
       "      <td>436</td>\n",
       "      <td>Follow Up</td>\n",
       "      <td>No Show</td>\n",
       "    </tr>\n",
       "    <tr>\n",
       "      <th>2</th>\n",
       "      <td>794</td>\n",
       "      <td>Telemedicine</td>\n",
       "      <td>No Show</td>\n",
       "    </tr>\n",
       "    <tr>\n",
       "      <th>3</th>\n",
       "      <td>799</td>\n",
       "      <td>Telemedicine</td>\n",
       "      <td>No Show</td>\n",
       "    </tr>\n",
       "    <tr>\n",
       "      <th>4</th>\n",
       "      <td>515</td>\n",
       "      <td>Telemedicine</td>\n",
       "      <td>No Show</td>\n",
       "    </tr>\n",
       "    <tr>\n",
       "      <th>...</th>\n",
       "      <td>...</td>\n",
       "      <td>...</td>\n",
       "      <td>...</td>\n",
       "    </tr>\n",
       "    <tr>\n",
       "      <th>945</th>\n",
       "      <td>788</td>\n",
       "      <td>Telemedicine</td>\n",
       "      <td>Canceled</td>\n",
       "    </tr>\n",
       "    <tr>\n",
       "      <th>946</th>\n",
       "      <td>703</td>\n",
       "      <td>Follow Up</td>\n",
       "      <td>Canceled</td>\n",
       "    </tr>\n",
       "    <tr>\n",
       "      <th>947</th>\n",
       "      <td>481</td>\n",
       "      <td>New</td>\n",
       "      <td>Canceled</td>\n",
       "    </tr>\n",
       "    <tr>\n",
       "      <th>948</th>\n",
       "      <td>398</td>\n",
       "      <td>Physical</td>\n",
       "      <td>Canceled</td>\n",
       "    </tr>\n",
       "    <tr>\n",
       "      <th>949</th>\n",
       "      <td>695</td>\n",
       "      <td>Follow Up</td>\n",
       "      <td>Canceled</td>\n",
       "    </tr>\n",
       "  </tbody>\n",
       "</table>\n",
       "<p>950 rows × 3 columns</p>\n",
       "</div>"
      ],
      "text/plain": [
       "     VisitID     VisitType VisitStatus\n",
       "0        202      Physical     No Show\n",
       "1        436     Follow Up     No Show\n",
       "2        794  Telemedicine     No Show\n",
       "3        799  Telemedicine     No Show\n",
       "4        515  Telemedicine     No Show\n",
       "..       ...           ...         ...\n",
       "945      788  Telemedicine    Canceled\n",
       "946      703     Follow Up    Canceled\n",
       "947      481           New    Canceled\n",
       "948      398      Physical    Canceled\n",
       "949      695     Follow Up    Canceled\n",
       "\n",
       "[950 rows x 3 columns]"
      ]
     },
     "execution_count": 4,
     "metadata": {},
     "output_type": "execute_result"
    }
   ],
   "source": [
    "# Convert the dictionary into DataFrame \n",
    "df = pd.DataFrame(hospital_data)\n",
    "df[[ 'VisitID','VisitType', 'VisitStatus']]"
   ]
  },
  {
   "cell_type": "code",
   "execution_count": 16,
   "id": "7634c49a",
   "metadata": {},
   "outputs": [
    {
     "name": "stdout",
     "output_type": "stream",
     "text": [
      "              VisitStatus\n",
      "VisitType                \n",
      "Follow Up              41\n",
      "Physical               39\n",
      "Telemedicine           74\n"
     ]
    }
   ],
   "source": [
    "#used pivot table \n",
    "pv = df[(df.VisitStatus == 'No Show')].pivot_table(index='VisitType',\n",
    "               values='VisitStatus',\n",
    "               aggfunc=np.count_nonzero\n",
    "              )\n",
    "\n",
    "print(pv)"
   ]
  },
  {
   "cell_type": "code",
   "execution_count": 7,
   "id": "2473243b",
   "metadata": {},
   "outputs": [
    {
     "data": {
      "text/plain": [
       "<AxesSubplot:title={'center':' Telemedicine visit type have maximum No Show'}, xlabel='VisitType'>"
      ]
     },
     "execution_count": 7,
     "metadata": {},
     "output_type": "execute_result"
    },
    {
     "data": {
      "image/png": "[encoded data removed]",
      "text/plain": [
       "<Figure size 640x480 with 1 Axes>"
      ]
     },
     "metadata": {},
     "output_type": "display_data"
    }
   ],
   "source": [
    "pv ['VisitStatus'].plot(kind='bar',color = \"red\",title = \" Telemedicine visit type have maximum No Show\")"
   ]
  },
  {
   "cell_type": "markdown",
   "id": "ec6dd8a5",
   "metadata": {},
   "source": [
    "# 42.Using loc,get the details of the providers where providerid is between 11 and 20 and providerSpecialty is Surgery."
   ]
  },
  {
   "cell_type": "code",
   "execution_count": 19,
   "id": "5444dd14",
   "metadata": {},
   "outputs": [],
   "source": [
    "#reading hospital dataset - Providers\n",
    "hospital_data=pd.read_excel('/Users/karthikauthershnagarajan/Desktop/python hackathon/HospitalDatabase.xlsx','Providers')"
   ]
  },
  {
   "cell_type": "code",
   "execution_count": 20,
   "id": "34354d9b",
   "metadata": {},
   "outputs": [
    {
     "data": {
      "text/html": [
       "<div>\n",
       "<style scoped>\n",
       "    .dataframe tbody tr th:only-of-type {\n",
       "        vertical-align: middle;\n",
       "    }\n",
       "\n",
       "    .dataframe tbody tr th {\n",
       "        vertical-align: top;\n",
       "    }\n",
       "\n",
       "    .dataframe thead th {\n",
       "        text-align: right;\n",
       "    }\n",
       "</style>\n",
       "<table border=\"1\" class=\"dataframe\">\n",
       "  <thead>\n",
       "    <tr style=\"text-align: right;\">\n",
       "      <th></th>\n",
       "      <th>ProviderID</th>\n",
       "      <th>ProviderName</th>\n",
       "      <th>ProviderSpecialty</th>\n",
       "      <th>ProviderDateOnStaff</th>\n",
       "    </tr>\n",
       "  </thead>\n",
       "  <tbody>\n",
       "    <tr>\n",
       "      <th>10</th>\n",
       "      <td>11</td>\n",
       "      <td>Kim Kimberly</td>\n",
       "      <td>Surgery</td>\n",
       "      <td>1998-05-10 14:47:29.468</td>\n",
       "    </tr>\n",
       "    <tr>\n",
       "      <th>11</th>\n",
       "      <td>12</td>\n",
       "      <td>Sarah Ab</td>\n",
       "      <td>Surgery</td>\n",
       "      <td>1998-08-18 05:22:40.762</td>\n",
       "    </tr>\n",
       "    <tr>\n",
       "      <th>12</th>\n",
       "      <td>13</td>\n",
       "      <td>Abigail Marriot</td>\n",
       "      <td>Surgery</td>\n",
       "      <td>1998-11-08 12:25:45.705</td>\n",
       "    </tr>\n",
       "    <tr>\n",
       "      <th>13</th>\n",
       "      <td>14</td>\n",
       "      <td>Dave Yu</td>\n",
       "      <td>Surgery</td>\n",
       "      <td>1999-06-26 16:18:57.436</td>\n",
       "    </tr>\n",
       "    <tr>\n",
       "      <th>14</th>\n",
       "      <td>15</td>\n",
       "      <td>Christian Saint</td>\n",
       "      <td>Surgery</td>\n",
       "      <td>2000-08-27 00:12:40.326</td>\n",
       "    </tr>\n",
       "    <tr>\n",
       "      <th>15</th>\n",
       "      <td>16</td>\n",
       "      <td>Perry Pardon</td>\n",
       "      <td>Surgery</td>\n",
       "      <td>2001-02-13 11:49:17.862</td>\n",
       "    </tr>\n",
       "    <tr>\n",
       "      <th>16</th>\n",
       "      <td>17</td>\n",
       "      <td>Kent Kendall</td>\n",
       "      <td>Cardiology</td>\n",
       "      <td>2001-12-22 11:18:32.919</td>\n",
       "    </tr>\n",
       "    <tr>\n",
       "      <th>17</th>\n",
       "      <td>18</td>\n",
       "      <td>Ryan Kevin</td>\n",
       "      <td>Cardiology</td>\n",
       "      <td>2003-01-14 21:16:34.778</td>\n",
       "    </tr>\n",
       "    <tr>\n",
       "      <th>18</th>\n",
       "      <td>19</td>\n",
       "      <td>Tyler Conner</td>\n",
       "      <td>Cardiology</td>\n",
       "      <td>2003-07-09 02:41:40.410</td>\n",
       "    </tr>\n",
       "    <tr>\n",
       "      <th>19</th>\n",
       "      <td>20</td>\n",
       "      <td>Bailey Barret</td>\n",
       "      <td>Cardiology</td>\n",
       "      <td>2003-08-20 16:05:50.179</td>\n",
       "    </tr>\n",
       "  </tbody>\n",
       "</table>\n",
       "</div>"
      ],
      "text/plain": [
       "    ProviderID     ProviderName ProviderSpecialty     ProviderDateOnStaff\n",
       "10          11     Kim Kimberly           Surgery 1998-05-10 14:47:29.468\n",
       "11          12         Sarah Ab           Surgery 1998-08-18 05:22:40.762\n",
       "12          13  Abigail Marriot           Surgery 1998-11-08 12:25:45.705\n",
       "13          14          Dave Yu           Surgery 1999-06-26 16:18:57.436\n",
       "14          15  Christian Saint           Surgery 2000-08-27 00:12:40.326\n",
       "15          16     Perry Pardon           Surgery 2001-02-13 11:49:17.862\n",
       "16          17     Kent Kendall        Cardiology 2001-12-22 11:18:32.919\n",
       "17          18       Ryan Kevin        Cardiology 2003-01-14 21:16:34.778\n",
       "18          19     Tyler Conner        Cardiology 2003-07-09 02:41:40.410\n",
       "19          20    Bailey Barret        Cardiology 2003-08-20 16:05:50.179"
      ]
     },
     "execution_count": 20,
     "metadata": {},
     "output_type": "execute_result"
    }
   ],
   "source": [
    "hospital_data.loc[10:19]"
   ]
  },
  {
   "cell_type": "code",
   "execution_count": 21,
   "id": "8bb218de",
   "metadata": {
    "scrolled": true
   },
   "outputs": [
    {
     "data": {
      "text/html": [
       "<div>\n",
       "<style scoped>\n",
       "    .dataframe tbody tr th:only-of-type {\n",
       "        vertical-align: middle;\n",
       "    }\n",
       "\n",
       "    .dataframe tbody tr th {\n",
       "        vertical-align: top;\n",
       "    }\n",
       "\n",
       "    .dataframe thead th {\n",
       "        text-align: right;\n",
       "    }\n",
       "</style>\n",
       "<table border=\"1\" class=\"dataframe\">\n",
       "  <thead>\n",
       "    <tr style=\"text-align: right;\">\n",
       "      <th></th>\n",
       "      <th>ProviderID</th>\n",
       "      <th>ProviderName</th>\n",
       "      <th>ProviderSpecialty</th>\n",
       "      <th>ProviderDateOnStaff</th>\n",
       "    </tr>\n",
       "  </thead>\n",
       "  <tbody>\n",
       "    <tr>\n",
       "      <th>10</th>\n",
       "      <td>11</td>\n",
       "      <td>Kim Kimberly</td>\n",
       "      <td>Surgery</td>\n",
       "      <td>1998-05-10 14:47:29.468</td>\n",
       "    </tr>\n",
       "    <tr>\n",
       "      <th>11</th>\n",
       "      <td>12</td>\n",
       "      <td>Sarah Ab</td>\n",
       "      <td>Surgery</td>\n",
       "      <td>1998-08-18 05:22:40.762</td>\n",
       "    </tr>\n",
       "    <tr>\n",
       "      <th>12</th>\n",
       "      <td>13</td>\n",
       "      <td>Abigail Marriot</td>\n",
       "      <td>Surgery</td>\n",
       "      <td>1998-11-08 12:25:45.705</td>\n",
       "    </tr>\n",
       "    <tr>\n",
       "      <th>13</th>\n",
       "      <td>14</td>\n",
       "      <td>Dave Yu</td>\n",
       "      <td>Surgery</td>\n",
       "      <td>1999-06-26 16:18:57.436</td>\n",
       "    </tr>\n",
       "    <tr>\n",
       "      <th>14</th>\n",
       "      <td>15</td>\n",
       "      <td>Christian Saint</td>\n",
       "      <td>Surgery</td>\n",
       "      <td>2000-08-27 00:12:40.326</td>\n",
       "    </tr>\n",
       "    <tr>\n",
       "      <th>15</th>\n",
       "      <td>16</td>\n",
       "      <td>Perry Pardon</td>\n",
       "      <td>Surgery</td>\n",
       "      <td>2001-02-13 11:49:17.862</td>\n",
       "    </tr>\n",
       "  </tbody>\n",
       "</table>\n",
       "</div>"
      ],
      "text/plain": [
       "    ProviderID     ProviderName ProviderSpecialty     ProviderDateOnStaff\n",
       "10          11     Kim Kimberly           Surgery 1998-05-10 14:47:29.468\n",
       "11          12         Sarah Ab           Surgery 1998-08-18 05:22:40.762\n",
       "12          13  Abigail Marriot           Surgery 1998-11-08 12:25:45.705\n",
       "13          14          Dave Yu           Surgery 1999-06-26 16:18:57.436\n",
       "14          15  Christian Saint           Surgery 2000-08-27 00:12:40.326\n",
       "15          16     Perry Pardon           Surgery 2001-02-13 11:49:17.862"
      ]
     },
     "execution_count": 21,
     "metadata": {},
     "output_type": "execute_result"
    }
   ],
   "source": [
    "#used loc \n",
    "hospital_data[hospital_data.ProviderSpecialty == 'Surgery'].loc[10:19]"
   ]
  },
  {
   "cell_type": "markdown",
   "id": "c8f8dbd5",
   "metadata": {},
   "source": [
    "# 43.In question 34, when the value is less than 6 ,print as -1,else print 99\n"
   ]
  },
  {
   "cell_type": "markdown",
   "id": "d3c96740",
   "metadata": {},
   "source": [
    "# 34.np.arange(1,31).reshape(6,5) Find the array slicing to get the elements with values 11,12,16,17."
   ]
  },
  {
   "cell_type": "code",
   "execution_count": 4,
   "id": "18a4d845",
   "metadata": {},
   "outputs": [
    {
     "name": "stdout",
     "output_type": "stream",
     "text": [
      "Requirement already satisfied: panda in /Users/karthikauthershnagarajan/opt/anaconda3/lib/python3.9/site-packages (0.3.1)\n",
      "Requirement already satisfied: setuptools in /Users/karthikauthershnagarajan/opt/anaconda3/lib/python3.9/site-packages (from panda) (63.4.1)\n",
      "Requirement already satisfied: requests in /Users/karthikauthershnagarajan/opt/anaconda3/lib/python3.9/site-packages (from panda) (2.28.1)\n",
      "Requirement already satisfied: charset-normalizer<3,>=2 in /Users/karthikauthershnagarajan/opt/anaconda3/lib/python3.9/site-packages (from requests->panda) (2.0.4)\n",
      "Requirement already satisfied: certifi>=2017.4.17 in /Users/karthikauthershnagarajan/opt/anaconda3/lib/python3.9/site-packages (from requests->panda) (2022.9.24)\n",
      "Requirement already satisfied: idna<4,>=2.5 in /Users/karthikauthershnagarajan/opt/anaconda3/lib/python3.9/site-packages (from requests->panda) (3.3)\n",
      "Requirement already satisfied: urllib3<1.27,>=1.21.1 in /Users/karthikauthershnagarajan/opt/anaconda3/lib/python3.9/site-packages (from requests->panda) (1.26.11)\n",
      "Note: you may need to restart the kernel to use updated packages.\n"
     ]
    }
   ],
   "source": [
    "pip install panda"
   ]
  },
  {
   "cell_type": "code",
   "execution_count": 5,
   "id": "b414b78d",
   "metadata": {},
   "outputs": [],
   "source": [
    "import numpy as np\n",
    "import pandas as pd\n",
    "import matplotlib.pyplot as plt\n",
    "import seaborn as sns"
   ]
  },
  {
   "cell_type": "code",
   "execution_count": 6,
   "id": "c748629e",
   "metadata": {},
   "outputs": [
    {
     "name": "stdout",
     "output_type": "stream",
     "text": [
      "[[ 1  2  3  4  5]\n",
      " [ 6  7  8  9 10]\n",
      " [11 12 13 14 15]\n",
      " [16 17 18 19 20]\n",
      " [21 22 23 24 25]\n",
      " [26 27 28 29 30]]\n"
     ]
    }
   ],
   "source": [
    "arr = np.arange(1,31).reshape(6,5)\n",
    "print(arr)"
   ]
  },
  {
   "cell_type": "code",
   "execution_count": 7,
   "id": "7ef12eeb",
   "metadata": {},
   "outputs": [
    {
     "name": "stdout",
     "output_type": "stream",
     "text": [
      "[[-1 -1 -1 -1 -1]\n",
      " [-1 99 99 99 99]\n",
      " [99 99 99 99 99]\n",
      " [99 99 99 99 99]\n",
      " [99 99 99 99 99]\n",
      " [99 99 99 99 99]]\n"
     ]
    }
   ],
   "source": [
    "arr[arr>6]=99\n",
    "arr[arr<=6]=-1\n",
    "print(arr)"
   ]
  },
  {
   "cell_type": "markdown",
   "id": "2f33bc91",
   "metadata": {},
   "source": [
    "# 44.Create a pivot table displaying average LOS based on Service and Primary Diagnosis"
   ]
  },
  {
   "cell_type": "code",
   "execution_count": 8,
   "id": "b5e47801",
   "metadata": {},
   "outputs": [
    {
     "name": "stdout",
     "output_type": "stream",
     "text": [
      "                                     ExpectedLOS\n",
      "Service          PrimaryDiagnosis               \n",
      "Cardiology       AMI                   12.414202\n",
      "                 Afib                  13.162920\n",
      "                 Broken Leg             3.911826\n",
      "                 Flu                    3.970428\n",
      "                 Heart Failure         13.014044\n",
      "                 Kidney Failure         6.580273\n",
      "General Medicine Broken Leg             3.368132\n",
      "                 Diabetes               5.665298\n",
      "                 Fever                  6.803796\n",
      "                 Flu                    6.141753\n",
      "                 Hypertension           5.369365\n",
      "                 Kidney Failure         5.943163\n",
      "                 Laceration             6.771154\n",
      "                 Pneumonia              6.140270\n",
      "                 Stroke                 7.173333\n",
      "Hospitalist      AMI                   13.828290\n",
      "                 Broken Leg             7.125069\n",
      "                 Diabetes               7.874359\n",
      "                 Fever                  8.865651\n",
      "                 Flu                    7.033979\n",
      "                 Hypertension           7.864913\n",
      "                 Kidney Failure         7.850346\n",
      "                 Knee Replacement       2.255705\n",
      "                 Laceration             7.069360\n",
      "                 Pneumonia              8.146240\n",
      "                 Stroke                15.349671\n",
      "ICU              AMI                   12.503213\n",
      "                 Afib                   9.651522\n",
      "                 Fever                  3.860693\n",
      "                 Flu                    4.953871\n",
      "                 Heart Failure         12.784620\n",
      "                 Hypertension           5.092533\n",
      "                 Kidney Failure         9.045995\n",
      "                 Laceration            10.101443\n",
      "                 Pneumonia             13.523626\n",
      "                 Spinal Cord Injury    15.276540\n",
      "                 Stroke                13.297978\n",
      "Neurology        AMI                   10.482847\n",
      "                 Flu                    6.700593\n",
      "                 Heart Failure         12.737565\n",
      "                 Hypertension           4.276454\n",
      "                 Migraine              12.202213\n",
      "                 Pain                  11.441453\n",
      "                 Pneumonia              7.527330\n",
      "                 Stroke                12.745608\n",
      "Orthopeadics     Hip Fracture           3.474971\n",
      "                 Knee Replacement       3.702839\n"
     ]
    }
   ],
   "source": [
    "#reading hospital data set sheet name #ReAdmissionRegistry\n",
    "hospital_data=pd.read_excel('/Users/karthikauthershnagarajan/Desktop/python hackathon/HospitalDatabase.xlsx','ReAdmissionRegistry')\n",
    "hospital_data.head()\n",
    "\n",
    "\n",
    "df = pd.DataFrame(hospital_data)\n",
    "\n",
    "pv = df.pivot_table(index=['Service','PrimaryDiagnosis'],\n",
    "                    values=['ExpectedLOS'],\n",
    "                    aggfunc='mean')\n",
    "                         \n",
    "    \n",
    "print(pv)"
   ]
  },
  {
   "cell_type": "markdown",
   "id": "c9b8c25f",
   "metadata": {},
   "source": [
    "# 45.Calculate Mortality by diagnosis."
   ]
  },
  {
   "cell_type": "code",
   "execution_count": 9,
   "id": "b2541d4e",
   "metadata": {},
   "outputs": [
    {
     "name": "stdout",
     "output_type": "stream",
     "text": [
      "                    ExpectedMortality\n",
      "PrimaryDiagnosis                     \n",
      "AMI                         11.287028\n",
      "Afib                         3.346590\n",
      "Broken Leg                   2.478958\n",
      "Diabetes                    18.334439\n",
      "Fever                        5.635418\n",
      "Flu                         21.838083\n",
      "Heart Failure               30.082879\n",
      "Hip Fracture                 8.586140\n",
      "Hypertension                14.827774\n",
      "Kidney Failure               4.951837\n",
      "Knee Replacement             6.678844\n",
      "Laceration                   7.917630\n",
      "Migraine                     6.808469\n",
      "Pain                         3.837848\n",
      "Pneumonia                   66.307360\n",
      "Spinal Cord Injury           0.400558\n",
      "Stroke                      30.085412\n"
     ]
    }
   ],
   "source": [
    "df = pd.DataFrame(hospital_data)\n",
    "\n",
    "pv = df.pivot_table(index=['PrimaryDiagnosis'],\n",
    "                    values=['ExpectedMortality'],\n",
    "                    aggfunc='sum')\n",
    "                         \n",
    "    \n",
    "print(pv)\n"
   ]
  },
  {
   "cell_type": "markdown",
   "id": "ef6ff8be",
   "metadata": {},
   "source": [
    "# 46.Write a Code to Split a sentence into words using regex."
   ]
  },
  {
   "cell_type": "code",
   "execution_count": 10,
   "id": "8224d0d4",
   "metadata": {},
   "outputs": [],
   "source": [
    "import re"
   ]
  },
  {
   "cell_type": "code",
   "execution_count": 11,
   "id": "705edec2",
   "metadata": {},
   "outputs": [
    {
     "name": "stdout",
     "output_type": "stream",
     "text": [
      "This\n",
      "is\n",
      "My\n",
      "First\n",
      "Python\n",
      "Hackathon\n"
     ]
    }
   ],
   "source": [
    "txt = \"This is My First Python Hackathon\"\n",
    "\n",
    "# split on white space\n",
    "\n",
    "x = re.split( \"\\s+\" ,txt)\n",
    "for i in x:\n",
    "    print(i)"
   ]
  },
  {
   "cell_type": "markdown",
   "id": "46ec55b5",
   "metadata": {},
   "source": [
    "# 47.Using indexing ,loc to Retrieve the row with maximum BloodPressureSystolic."
   ]
  },
  {
   "cell_type": "code",
   "execution_count": 12,
   "id": "4c18b115",
   "metadata": {},
   "outputs": [
    {
     "data": {
      "text/html": [
       "<div>\n",
       "<style scoped>\n",
       "    .dataframe tbody tr th:only-of-type {\n",
       "        vertical-align: middle;\n",
       "    }\n",
       "\n",
       "    .dataframe tbody tr th {\n",
       "        vertical-align: top;\n",
       "    }\n",
       "\n",
       "    .dataframe thead th {\n",
       "        text-align: right;\n",
       "    }\n",
       "</style>\n",
       "<table border=\"1\" class=\"dataframe\">\n",
       "  <thead>\n",
       "    <tr style=\"text-align: right;\">\n",
       "      <th></th>\n",
       "      <th>VisitID</th>\n",
       "      <th>PatientMRN</th>\n",
       "      <th>ProviderID</th>\n",
       "      <th>DateofVisit</th>\n",
       "      <th>DateScheduled</th>\n",
       "      <th>VisitDepartmentID</th>\n",
       "      <th>VisitType</th>\n",
       "      <th>BloodPressureSystolic</th>\n",
       "      <th>BloodPressureDiastolic</th>\n",
       "      <th>Pulse</th>\n",
       "      <th>VisitStatus</th>\n",
       "    </tr>\n",
       "  </thead>\n",
       "  <tbody>\n",
       "    <tr>\n",
       "      <th>236</th>\n",
       "      <td>933</td>\n",
       "      <td>884</td>\n",
       "      <td>27</td>\n",
       "      <td>2019-02-14</td>\n",
       "      <td>2019-01-22 19:26:49.163</td>\n",
       "      <td>12</td>\n",
       "      <td>Telemedicine</td>\n",
       "      <td>190.0</td>\n",
       "      <td>143.989174</td>\n",
       "      <td>74.976879</td>\n",
       "      <td>Completed</td>\n",
       "    </tr>\n",
       "    <tr>\n",
       "      <th>251</th>\n",
       "      <td>888</td>\n",
       "      <td>906</td>\n",
       "      <td>24</td>\n",
       "      <td>2019-03-31</td>\n",
       "      <td>2019-03-17 23:21:17.361</td>\n",
       "      <td>10</td>\n",
       "      <td>New</td>\n",
       "      <td>190.0</td>\n",
       "      <td>137.207999</td>\n",
       "      <td>52.666922</td>\n",
       "      <td>Completed</td>\n",
       "    </tr>\n",
       "    <tr>\n",
       "      <th>424</th>\n",
       "      <td>314</td>\n",
       "      <td>63</td>\n",
       "      <td>7</td>\n",
       "      <td>2019-04-05</td>\n",
       "      <td>2019-03-24 22:31:26.092</td>\n",
       "      <td>11</td>\n",
       "      <td>Telemedicine</td>\n",
       "      <td>190.0</td>\n",
       "      <td>121.539859</td>\n",
       "      <td>95.471260</td>\n",
       "      <td>Completed</td>\n",
       "    </tr>\n",
       "    <tr>\n",
       "      <th>432</th>\n",
       "      <td>740</td>\n",
       "      <td>892</td>\n",
       "      <td>31</td>\n",
       "      <td>2019-03-14</td>\n",
       "      <td>2019-03-11 15:08:33.963</td>\n",
       "      <td>8</td>\n",
       "      <td>Physical</td>\n",
       "      <td>190.0</td>\n",
       "      <td>145.343479</td>\n",
       "      <td>94.849021</td>\n",
       "      <td>Completed</td>\n",
       "    </tr>\n",
       "    <tr>\n",
       "      <th>677</th>\n",
       "      <td>929</td>\n",
       "      <td>880</td>\n",
       "      <td>23</td>\n",
       "      <td>2019-02-10</td>\n",
       "      <td>2019-01-22 13:32:14.549</td>\n",
       "      <td>8</td>\n",
       "      <td>Follow Up</td>\n",
       "      <td>190.0</td>\n",
       "      <td>144.313400</td>\n",
       "      <td>82.781940</td>\n",
       "      <td>Completed</td>\n",
       "    </tr>\n",
       "    <tr>\n",
       "      <th>869</th>\n",
       "      <td>839</td>\n",
       "      <td>857</td>\n",
       "      <td>12</td>\n",
       "      <td>2019-03-17</td>\n",
       "      <td>2019-02-23 09:05:43.676</td>\n",
       "      <td>8</td>\n",
       "      <td>Follow Up</td>\n",
       "      <td>190.0</td>\n",
       "      <td>130.997386</td>\n",
       "      <td>71.829542</td>\n",
       "      <td>Completed</td>\n",
       "    </tr>\n",
       "    <tr>\n",
       "      <th>934</th>\n",
       "      <td>482</td>\n",
       "      <td>866</td>\n",
       "      <td>14</td>\n",
       "      <td>2019-05-04</td>\n",
       "      <td>2019-04-13 07:54:49.580</td>\n",
       "      <td>5</td>\n",
       "      <td>New</td>\n",
       "      <td>190.0</td>\n",
       "      <td>124.736359</td>\n",
       "      <td>69.731779</td>\n",
       "      <td>Canceled</td>\n",
       "    </tr>\n",
       "  </tbody>\n",
       "</table>\n",
       "</div>"
      ],
      "text/plain": [
       "     VisitID  PatientMRN  ProviderID DateofVisit           DateScheduled  \\\n",
       "236      933         884          27  2019-02-14 2019-01-22 19:26:49.163   \n",
       "251      888         906          24  2019-03-31 2019-03-17 23:21:17.361   \n",
       "424      314          63           7  2019-04-05 2019-03-24 22:31:26.092   \n",
       "432      740         892          31  2019-03-14 2019-03-11 15:08:33.963   \n",
       "677      929         880          23  2019-02-10 2019-01-22 13:32:14.549   \n",
       "869      839         857          12  2019-03-17 2019-02-23 09:05:43.676   \n",
       "934      482         866          14  2019-05-04 2019-04-13 07:54:49.580   \n",
       "\n",
       "     VisitDepartmentID     VisitType  BloodPressureSystolic  \\\n",
       "236                 12  Telemedicine                  190.0   \n",
       "251                 10           New                  190.0   \n",
       "424                 11  Telemedicine                  190.0   \n",
       "432                  8      Physical                  190.0   \n",
       "677                  8     Follow Up                  190.0   \n",
       "869                  8     Follow Up                  190.0   \n",
       "934                  5           New                  190.0   \n",
       "\n",
       "     BloodPressureDiastolic      Pulse VisitStatus  \n",
       "236              143.989174  74.976879   Completed  \n",
       "251              137.207999  52.666922   Completed  \n",
       "424              121.539859  95.471260   Completed  \n",
       "432              145.343479  94.849021   Completed  \n",
       "677              144.313400  82.781940   Completed  \n",
       "869              130.997386  71.829542   Completed  \n",
       "934              124.736359  69.731779    Canceled  "
      ]
     },
     "execution_count": 12,
     "metadata": {},
     "output_type": "execute_result"
    }
   ],
   "source": [
    "#reading hospital data set sheet name #AmbulatoryVisits\n",
    "hospital_data=pd.read_excel('/Users/karthikauthershnagarajan/Desktop/python hackathon/HospitalDatabase.xlsx','AmbulatoryVisits')\n",
    "df = pd.DataFrame(hospital_data)\n",
    "\n",
    "#hospital_data[hospital_data.BloodPressureSystolic ].loc[10:19]\n",
    "\n",
    "df.loc[df['BloodPressureSystolic'] == df['BloodPressureSystolic'].max()]\n",
    "#print(df.loc[df['BloodPressureSystolic'].idxmax()])"
   ]
  },
  {
   "cell_type": "markdown",
   "id": "9ecdc369",
   "metadata": {},
   "source": [
    "# 48.Display the average LOS based on Service and Discharge Disposition(Maintain the column Hierarchy)"
   ]
  },
  {
   "cell_type": "code",
   "execution_count": 13,
   "id": "72294666",
   "metadata": {},
   "outputs": [],
   "source": [
    "#reading hospital data set sheet name #Discharge\n",
    "hospital_data=pd.read_excel('/Users/karthikauthershnagarajan/Desktop/python hackathon/HospitalDatabase.xlsx','Discharges')\n",
    "df = pd.DataFrame(hospital_data)"
   ]
  },
  {
   "cell_type": "code",
   "execution_count": 14,
   "id": "bf092341",
   "metadata": {},
   "outputs": [
    {
     "name": "stdout",
     "output_type": "stream",
     "text": [
      "                                       ExpectedLOS\n",
      "Service          DischargeDisposition             \n",
      "Cardiology       Expired                138.039397\n",
      "                 Home                   964.870177\n",
      "                 Transfer                59.092014\n",
      "General Medicine Expired                105.732054\n",
      "                 Home                  1398.204405\n",
      "                 Transfer                97.857988\n",
      "Hospitalist      Expired                 67.756360\n",
      "                 Home                   704.796009\n",
      "                 Transfer                17.104168\n",
      "ICU              Expired                287.652824\n",
      "                 Home                  1479.627425\n",
      "                 Transfer               143.870851\n",
      "Neurology        Expired                253.376411\n",
      "                 Home                   451.398916\n",
      "                 Transfer                22.938396\n",
      "Orthopeadics     Expired                 19.719416\n",
      "                 Home                   136.825128\n",
      "                 Transfer                 4.842255\n"
     ]
    }
   ],
   "source": [
    "pv = df.pivot_table(index=['Service','DischargeDisposition'],\n",
    "                    values=['ExpectedLOS'],\n",
    "                    aggfunc='sum')\n",
    "                         \n",
    "print(pv)"
   ]
  },
  {
   "cell_type": "markdown",
   "id": "e1fbe95c",
   "metadata": {},
   "source": [
    "# 49.Retrieve the count of Patients who are prone to hypertension Crisis ( SBP > 180 & DBP> 120)"
   ]
  },
  {
   "cell_type": "code",
   "execution_count": 15,
   "id": "c96f77ad",
   "metadata": {},
   "outputs": [
    {
     "name": "stdout",
     "output_type": "stream",
     "text": [
      "Count of Patients who are prone to Hypertension Crisis:101\n"
     ]
    }
   ],
   "source": [
    "#AmbulatoryVisits\n",
    "hospital_data=pd.read_excel('/Users/karthikauthershnagarajan/Desktop/python hackathon/HospitalDatabase.xlsx','AmbulatoryVisits')\n",
    "df = pd.DataFrame(hospital_data) \n",
    "df_ht = df.loc[(df['BloodPressureSystolic'] > 180) & (df['BloodPressureDiastolic'] > 120)]\n",
    "print(\"Count of Patients who are prone to Hypertension Crisis:\"+str(len(df_ht)))\n",
    " "
   ]
  },
  {
   "cell_type": "markdown",
   "id": "2f8ff870",
   "metadata": {},
   "source": [
    "# 50.Which departmentID has maximum number of visits scheduled. "
   ]
  },
  {
   "cell_type": "code",
   "execution_count": 16,
   "id": "d3466465",
   "metadata": {},
   "outputs": [
    {
     "name": "stdout",
     "output_type": "stream",
     "text": [
      "DepartmentID with Maxiumun no.of Visits:11\n",
      "Count of Visits:102\n"
     ]
    }
   ],
   "source": [
    "print(\"DepartmentID with Maxiumun no.of Visits:\"+str(df.loc[df['VisitDepartmentID'].max(),'VisitDepartmentID']))\n",
    "df2 = df.query('VisitDepartmentID==11')\n",
    "print(\"Count of Visits:\"+str(len(df2)))\n"
   ]
  },
  {
   "cell_type": "markdown",
   "id": "87e86204",
   "metadata": {},
   "source": [
    "# 51.Display patient details where \"ReasonForVisit\" is Either 'Migraine' or 'Pneumonia' and Acuity is 2 or more."
   ]
  },
  {
   "cell_type": "code",
   "execution_count": 48,
   "id": "c150b860",
   "metadata": {},
   "outputs": [
    {
     "name": "stdout",
     "output_type": "stream",
     "text": [
      "      EDVisitID  PatientID               VisitDate         EDDischargeTime  \\\n",
      "1            12         12 2020-01-01 02:45:40.302 2020-01-02 02:00:00.517   \n",
      "3            14         14 2020-01-01 03:12:19.349 2020-01-01 04:32:29.142   \n",
      "11           29         29 2020-01-01 06:51:28.639 2020-01-02 05:57:01.639   \n",
      "12           30         30 2020-01-01 07:25:54.177 2020-01-01 23:30:20.151   \n",
      "13           31         31 2020-01-01 07:32:51.917 2020-01-01 19:55:46.991   \n",
      "...         ...        ...                     ...                     ...   \n",
      "1107       1027        773 2020-01-13 15:27:07.001 2020-01-14 13:27:31.778   \n",
      "1150       1104        850 2020-01-14 10:46:08.650 2020-01-14 20:52:26.031   \n",
      "1152       1106        852 2020-01-14 11:19:41.401 2020-01-15 02:47:17.353   \n",
      "1160       1122        868 2020-01-14 15:05:58.777 2020-01-15 13:53:02.550   \n",
      "1162       1124        870 2020-01-14 15:31:20.038 2020-01-15 10:28:29.406   \n",
      "\n",
      "      Acuity ReasonForVisit EDDisposition  \n",
      "1          2       Migraine      Admitted  \n",
      "3          3       Migraine      Admitted  \n",
      "11         2      Pneumonia      Admitted  \n",
      "12         3      Pneumonia      Admitted  \n",
      "13         4      Pneumonia      Admitted  \n",
      "...      ...            ...           ...  \n",
      "1107       2       Migraine    Discharged  \n",
      "1150       2       Migraine    Discharged  \n",
      "1152       2       Migraine    Discharged  \n",
      "1160       2       Migraine    Discharged  \n",
      "1162       2       Migraine    Discharged  \n",
      "\n",
      "[215 rows x 7 columns]\n"
     ]
    }
   ],
   "source": [
    "\n",
    "#EDVisits\n",
    "hospital_data=pd.read_excel('/Users/karthikauthershnagarajan/Desktop/python hackathon/HospitalDatabase.xlsx','EDVisits')\n",
    "df = pd.DataFrame(hospital_data) \n",
    "\n",
    "#print(df)\n",
    "\n",
    "options = ['Migraine' , 'Pneumonia']\n",
    "\n",
    "pati_df = df.loc[(df['Acuity'] >= 2) &\n",
    "         df['ReasonForVisit'].isin(options)]\n",
    "\n",
    "print(pati_df)\n"
   ]
  },
  {
   "cell_type": "markdown",
   "id": "812e6715",
   "metadata": {},
   "source": [
    "# 52.Retrieve the row with Minimum DBP using sorting technique"
   ]
  },
  {
   "cell_type": "code",
   "execution_count": 74,
   "id": "d5e434dd",
   "metadata": {},
   "outputs": [],
   "source": [
    "#AmbulatoryVisits\n",
    "\n",
    "hospital_data=pd.read_excel('/Users/karthikauthershnagarajan/Desktop/python hackathon/HospitalDatabase.xlsx','AmbulatoryVisits')\n",
    "df = pd.DataFrame(hospital_data) \n"
   ]
  },
  {
   "cell_type": "code",
   "execution_count": 82,
   "id": "2fa60d9d",
   "metadata": {},
   "outputs": [
    {
     "name": "stdout",
     "output_type": "stream",
     "text": [
      "     VisitID  PatientMRN  ProviderID DateofVisit           DateScheduled  \\\n",
      "757      163         801          11  2019-02-08 2019-02-07 23:41:12.181   \n",
      "456       32          35          32  2019-02-01 2019-01-14 23:07:20.015   \n",
      "118      214         852          38  2019-03-31 2019-03-14 18:17:19.979   \n",
      "231      909         860           3  2019-04-21 2019-04-12 20:49:25.742   \n",
      "545      372         557           3  2019-02-21 2019-02-13 13:05:43.263   \n",
      "..       ...         ...         ...         ...                     ...   \n",
      "805      666         818          33  2019-02-09 2019-02-01 02:22:14.761   \n",
      "807      555          72          35  2019-04-30 2019-04-02 08:38:32.357   \n",
      "808      645          90          37  2019-03-16 2019-02-16 17:45:16.908   \n",
      "810      773         858          24  2019-03-12 2019-02-25 02:59:43.233   \n",
      "813      895         913          31  2019-04-07 2019-03-23 15:12:55.426   \n",
      "\n",
      "     VisitDepartmentID     VisitType  BloodPressureSystolic  \\\n",
      "757                  7     Follow Up                  120.0   \n",
      "456                  8           New                  121.0   \n",
      "118                 10      Physical                  123.0   \n",
      "231                  5  Telemedicine                  122.0   \n",
      "545                 11     Follow Up                  125.0   \n",
      "..                 ...           ...                    ...   \n",
      "805                 10      Physical                    NaN   \n",
      "807                  7     Follow Up                    NaN   \n",
      "808                  1  Telemedicine                    NaN   \n",
      "810                  2     Follow Up                    NaN   \n",
      "813                  7           New                    NaN   \n",
      "\n",
      "     BloodPressureDiastolic      Pulse VisitStatus  \n",
      "757               51.695653  53.310495   Completed  \n",
      "456               54.099878  80.480990   Completed  \n",
      "118               54.285242  93.909856     No Show  \n",
      "231               56.594973  85.179520   Completed  \n",
      "545               57.043944  73.071398   Completed  \n",
      "..                      ...        ...         ...  \n",
      "805                     NaN        NaN   Completed  \n",
      "807                     NaN        NaN   Completed  \n",
      "808                     NaN        NaN   Completed  \n",
      "810                     NaN        NaN   Completed  \n",
      "813                     NaN        NaN   Completed  \n",
      "\n",
      "[950 rows x 11 columns]\n"
     ]
    }
   ],
   "source": [
    "bpd=df.sort_values(by='BloodPressureDiastolic')\n",
    "print(bpd)"
   ]
  },
  {
   "cell_type": "code",
   "execution_count": 79,
   "id": "bc31dfd4",
   "metadata": {},
   "outputs": [
    {
     "name": "stdout",
     "output_type": "stream",
     "text": [
      "VisitID                                            1\n",
      "PatientMRN                                         4\n",
      "ProviderID                                         1\n",
      "DateofVisit                      2019-01-01 00:00:00\n",
      "DateScheduled             2018-12-04 12:16:32.105000\n",
      "VisitDepartmentID                                  1\n",
      "VisitType                                  Follow Up\n",
      "BloodPressureSystolic                          120.0\n",
      "BloodPressureDiastolic                     51.695653\n",
      "Pulse                                      50.072068\n",
      "VisitStatus                                 Canceled\n",
      "dtype: object\n"
     ]
    }
   ],
   "source": [
    "bpd=df.sort_values(by='BloodPressureDiastolic')\n",
    "print(bpd.min())"
   ]
  },
  {
   "cell_type": "markdown",
   "id": "b6dae1d8",
   "metadata": {},
   "source": [
    "# 53.Take the ReasonForVisit from user,find the number of patients admitted with that ReasonForVisit."
   ]
  },
  {
   "cell_type": "code",
   "execution_count": 102,
   "id": "316872a4",
   "metadata": {},
   "outputs": [],
   "source": [
    "\n",
    "hospital_data=pd.read_excel('/Users/karthikauthershnagarajan/Desktop/python hackathon/HospitalDatabase.xlsx', 'EDVisits')\n",
    "df = pd.DataFrame(hospital_data) "
   ]
  },
  {
   "cell_type": "markdown",
   "id": "10c0b998",
   "metadata": {},
   "source": [
    "# 54.Mortality O:E"
   ]
  },
  {
   "cell_type": "code",
   "execution_count": null,
   "id": "f9d4f54f",
   "metadata": {},
   "outputs": [],
   "source": []
  },
  {
   "cell_type": "markdown",
   "id": "31017187",
   "metadata": {},
   "source": [
    "# 55.Create a bar chart on service & expected length of stay."
   ]
  },
  {
   "cell_type": "code",
   "execution_count": 121,
   "id": "87d01951",
   "metadata": {},
   "outputs": [],
   "source": [
    "#reading hospital data set sheet name #ReAdmissionRegistry\n",
    "hospital_data=pd.read_excel('/Users/karthikauthershnagarajan/Desktop/python hackathon/HospitalDatabase.xlsx','ReAdmissionRegistry')\n",
    "\n",
    "df = pd.DataFrame(hospital_data)"
   ]
  },
  {
   "cell_type": "code",
   "execution_count": 136,
   "id": "b0a94328",
   "metadata": {},
   "outputs": [
    {
     "name": "stdout",
     "output_type": "stream",
     "text": [
      "                  ExpectedLOS\n",
      "Service                      \n",
      "Cardiology          12.231596\n",
      "General Medicine     6.090473\n",
      "Hospitalist          7.818382\n",
      "ICU                 12.656630\n",
      "Neurology           11.195596\n",
      "Orthopeadics         3.586373\n"
     ]
    },
    {
     "data": {
      "text/plain": [
       "<AxesSubplot:title={'center':'bar chart on service & expected length of stay(Average)'}, xlabel='Service'>"
      ]
     },
     "execution_count": 136,
     "metadata": {},
     "output_type": "execute_result"
    },
    {
     "data": {
      "image/png": "[encoded data removed]",
      "text/plain": [
       "<Figure size 640x480 with 1 Axes>"
      ]
     },
     "metadata": {},
     "output_type": "display_data"
    }
   ],
   "source": [
    "#pv = df['service','ExpectedLOS']\n",
    "              \n",
    "\n",
    "\n",
    "pv = df.pivot_table(index=['Service'],\n",
    "                    values=['ExpectedLOS'],\n",
    "                    aggfunc='mean')\n",
    "                         \n",
    "print(pv)\n",
    "\n",
    "pv ['ExpectedLOS'].plot(kind='bar',color = \"blue\",title = \"bar chart on service & expected length of stay(Average)\")"
   ]
  },
  {
   "cell_type": "markdown",
   "id": "f3d1f73b",
   "metadata": {},
   "source": [
    "# 56.Count of Canceled Status."
   ]
  },
  {
   "cell_type": "code",
   "execution_count": 137,
   "id": "32d4a49d",
   "metadata": {},
   "outputs": [],
   "source": [
    "#AmbulatoryVisits\n",
    "\n",
    "hospital_data=pd.read_excel('/Users/karthikauthershnagarajan/Desktop/python hackathon/HospitalDatabase.xlsx','AmbulatoryVisits')\n",
    "df = pd.DataFrame(hospital_data) "
   ]
  },
  {
   "cell_type": "code",
   "execution_count": 149,
   "id": "a412e73b",
   "metadata": {},
   "outputs": [
    {
     "name": "stdout",
     "output_type": "stream",
     "text": [
      "Count of Canceled Status:60\n"
     ]
    }
   ],
   "source": [
    "can = len(df[df['VisitStatus']=='Canceled'])\n",
    "print(\"Count of Canceled Status:\" +str (can))\n",
    "      "
   ]
  },
  {
   "cell_type": "markdown",
   "id": "6dc565ec",
   "metadata": {},
   "source": [
    "# 57.Find the age prone to get stroke."
   ]
  },
  {
   "cell_type": "code",
   "execution_count": null,
   "id": "895aeeab",
   "metadata": {},
   "outputs": [],
   "source": []
  }
 ],
 "metadata": {
  "kernelspec": {
   "display_name": "Python 3 (ipykernel)",
   "language": "python",
   "name": "python3"
  },
  "language_info": {
   "codemirror_mode": {
    "name": "ipython",
    "version": 3
   },
   "file_extension": ".py",
   "mimetype": "text/x-python",
   "name": "python",
   "nbconvert_exporter": "python",
   "pygments_lexer": "ipython3",
   "version": "3.9.13"
  }
 },
 "nbformat": 4,
 "nbformat_minor": 5
}
