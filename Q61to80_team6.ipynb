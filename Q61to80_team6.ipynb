{
 "cells": [
  {
   "cell_type": "code",
   "execution_count": 1,
   "id": "c9e94ac4",
   "metadata": {},
   "outputs": [],
   "source": [
    "import pandas as pd\n",
    "import matplotlib.pyplot as plt\n",
    "import numpy as np"
   ]
  },
  {
   "cell_type": "markdown",
   "id": "04c9192e",
   "metadata": {},
   "source": [
    "# Q21. Plot a graph by multiploting on the same canvas (Take any set of x &y Values)"
   ]
  },
  {
   "cell_type": "code",
   "execution_count": 2,
   "id": "49fb429c",
   "metadata": {
    "scrolled": true
   },
   "outputs": [
    {
     "data": {
      "image/png": "[encoded data removed]",
      "text/plain": [
       "<Figure size 432x288 with 2 Axes>"
      ]
     },
     "metadata": {
      "needs_background": "light"
     },
     "output_type": "display_data"
    }
   ],
   "source": [
    "#61\n",
    "#subplots Displaying multiple plots\n",
    "x=np.array([0,1,2,3,5,6])\n",
    "y=np.array([50,8,15,100,55,99])\n",
    "\n",
    "#plot 1\n",
    "plt.subplot(2,1,1)\n",
    "plt.plot(x,y)\n",
    "\n",
    "#plot 2\n",
    "\n",
    "x= np.array([0,1,2,3,5,6])\n",
    "y= np.array([10,20,30,40,60,70])\n",
    "plt.subplot(2,1,2)\n",
    "plt.plot(x,y)\n",
    "plt.show()"
   ]
  },
  {
   "cell_type": "markdown",
   "id": "849d2a4b",
   "metadata": {},
   "source": [
    "# Q64.Using numpy functions multiply the following arrays a=np.arange(6).reshape(2,3)  and b= np.arange(6).reshape(3,2)\n",
    "    "
   ]
  },
  {
   "cell_type": "code",
   "execution_count": 33,
   "id": "2172cadf",
   "metadata": {},
   "outputs": [
    {
     "name": "stdout",
     "output_type": "stream",
     "text": [
      "[[0 1 2]\n",
      " [3 4 5]]\n",
      "[[0 1]\n",
      " [2 3]\n",
      " [4 5]]\n"
     ]
    },
    {
     "data": {
      "text/plain": [
       "array([[10, 13],\n",
       "       [28, 40]])"
      ]
     },
     "execution_count": 33,
     "metadata": {},
     "output_type": "execute_result"
    }
   ],
   "source": [
    "a=np.arange(6).reshape(2,3)\n",
    "b=np.arange(6).reshape(3,2)\n",
    "res = np.dot(a,b)\n",
    "print(a)\n",
    "print(b)\n",
    "res"
   ]
  },
  {
   "cell_type": "markdown",
   "id": "3957eb10",
   "metadata": {},
   "source": [
    "# Q66. np.arange(1,31).reshape(6,5) find array slicing to getelements 4,5,24,25,29,30"
   ]
  },
  {
   "cell_type": "code",
   "execution_count": 32,
   "id": "4b89149d",
   "metadata": {},
   "outputs": [
    {
     "name": "stdout",
     "output_type": "stream",
     "text": [
      "Original arrays:\n",
      "[[ 1  2  3  4  5]\n",
      " [ 6  7  8  9 10]\n",
      " [11 12 13 14 15]\n",
      " [16 17 18 19 20]\n",
      " [21 22 23 24 25]\n",
      " [26 27 28 29 30]]\n",
      "Sliced elements:\n",
      "[ 4  5 24 25 29 30]\n"
     ]
    }
   ],
   "source": [
    "x = np.reshape(np.arange(1,31),(6,5))\n",
    "print(\"Original arrays:\")\n",
    "print(x)\n",
    "print(\"Sliced elements:\")\n",
    "result = x[[0,0,4,4,5,5],[3,4,3,4,3,4]]\n",
    "print(result)"
   ]
  },
  {
   "cell_type": "code",
   "execution_count": null,
   "id": "9d15cb03",
   "metadata": {},
   "outputs": [],
   "source": []
  }
 ],
 "metadata": {
  "kernelspec": {
   "display_name": "Python 3 (ipykernel)",
   "language": "python",
   "name": "python3"
  },
  "language_info": {
   "codemirror_mode": {
    "name": "ipython",
    "version": 3
   },
   "file_extension": ".py",
   "mimetype": "text/x-python",
   "name": "python",
   "nbconvert_exporter": "python",
   "pygments_lexer": "ipython3",
   "version": "3.10.1"
  }
 },
 "nbformat": 4,
 "nbformat_minor": 5
}
